{
  "nbformat": 4,
  "nbformat_minor": 0,
  "metadata": {
    "colab": {
      "name": "denoise_super.ipynb",
      "provenance": [],
      "collapsed_sections": []
    },
    "kernelspec": {
      "name": "python3",
      "display_name": "Python 3"
    },
    "language_info": {
      "name": "python"
    },
    "accelerator": "GPU"
  },
  "cells": [
    {
      "cell_type": "code",
      "metadata": {
        "id": "cyhUcM2okAeq"
      },
      "source": [
        "import cv2\n",
        "import numpy as np\n",
        "import matplotlib.pyplot as plt\n",
        "from sklearn.model_selection import train_test_split\n",
        "\n",
        "from tensorflow.keras import Model, Input, regularizers\n",
        "from tensorflow.keras.layers import Dense, Conv2D, MaxPool2D, UpSampling2D\n",
        "from tensorflow.keras.callbacks import EarlyStopping\n",
        "from keras.preprocessing import image\n",
        "\n",
        "import glob\n",
        "from tqdm import tqdm\n",
        "import warnings;\n",
        "warnings.filterwarnings('ignore')\n",
        "from tensorflow.keras.layers import Input, Dense, Conv2D, MaxPooling2D, Dropout, Conv2DTranspose, UpSampling2D, add\n",
        "from tensorflow.keras.models import Model\n",
        "from tensorflow.keras import regularizers\n",
        "from keras.layers import Conv2D, UpSampling2D\n",
        "from keras.models import Sequential\n",
        "from keras.preprocessing.image import ImageDataGenerator, img_to_array, load_img\n",
        "from skimage.color import rgb2lab, lab2rgb\n",
        "from skimage.transform import resize\n",
        "from skimage.io import imsave\n",
        "import numpy as np\n",
        "import tensorflow as tf\n",
        "import glob\n",
        "from tqdm import tqdm\n",
        "import warnings;"
      ],
      "execution_count": null,
      "outputs": []
    },
    {
      "cell_type": "code",
      "metadata": {
        "colab": {
          "base_uri": "https://localhost:8080/"
        },
        "id": "3-js15FRkHTA",
        "outputId": "d8bf3512-7b65-40b3-cbd0-edf1d676bdd6"
      },
      "source": [
        "from google.colab import drive\n",
        "drive.mount('/content/drive')"
      ],
      "execution_count": null,
      "outputs": [
        {
          "output_type": "stream",
          "text": [
            "Mounted at /content/drive\n"
          ],
          "name": "stdout"
        }
      ]
    },
    {
      "cell_type": "code",
      "metadata": {
        "id": "b9w6_8XykW1s"
      },
      "source": [
        "!cp drive/MyDrive/lwf/test.rar /content/"
      ],
      "execution_count": null,
      "outputs": []
    },
    {
      "cell_type": "code",
      "metadata": {
        "id": "hEl5b-uukiUk"
      },
      "source": [
        "!unrar e test.rar test/"
      ],
      "execution_count": null,
      "outputs": []
    },
    {
      "cell_type": "code",
      "metadata": {
        "colab": {
          "base_uri": "https://localhost:8080/"
        },
        "id": "PXt5fgv9kk5r",
        "outputId": "1a1375f2-728b-4420-8e89-9145578e9953"
      },
      "source": [
        "cd test/"
      ],
      "execution_count": null,
      "outputs": [
        {
          "output_type": "stream",
          "text": [
            "/content/test\n"
          ],
          "name": "stdout"
        }
      ]
    },
    {
      "cell_type": "code",
      "metadata": {
        "id": "7W9DdGg5knOr"
      },
      "source": [
        "face_images = glob.glob('*.jpg')"
      ],
      "execution_count": null,
      "outputs": []
    },
    {
      "cell_type": "code",
      "metadata": {
        "id": "GFN3bI-skpIL"
      },
      "source": [
        "from keras.preprocessing import image"
      ],
      "execution_count": null,
      "outputs": []
    },
    {
      "cell_type": "code",
      "metadata": {
        "colab": {
          "base_uri": "https://localhost:8080/"
        },
        "id": "k0NMzugRkvar",
        "outputId": "e7a4ba3e-8d85-4f66-c4ff-3781f602e0f8"
      },
      "source": [
        "all_images = []\n",
        "\n",
        "for i in tqdm(face_images):\n",
        "  img = image.load_img(i, target_size=(256,256,3))\n",
        "  img = image.img_to_array(img)\n",
        "  img = img/255.\n",
        "  all_images.append(img)"
      ],
      "execution_count": null,
      "outputs": [
        {
          "output_type": "stream",
          "text": [
            "100%|██████████| 1127/1127 [00:02<00:00, 458.27it/s]\n"
          ],
          "name": "stderr"
        }
      ]
    },
    {
      "cell_type": "code",
      "metadata": {
        "id": "bP0lQHcPkwjT"
      },
      "source": [
        "def noisy_image(image):\n",
        "\n",
        "  noise =  np.random.normal(loc=0, scale=1, size=img.shape)\n",
        "\n",
        "  noisy = np.clip((img + noise*0.2),0,1)\n",
        "\n",
        "  noisy = cv2.resize(noisy, (256, 256)) \n",
        "\n",
        "  return noisy"
      ],
      "execution_count": null,
      "outputs": []
    },
    {
      "cell_type": "code",
      "metadata": {
        "colab": {
          "base_uri": "https://localhost:8080/"
        },
        "id": "Bch0DkfIkygM",
        "outputId": "742e97d4-a8d5-4640-c902-841fe41c0a49"
      },
      "source": [
        "\n",
        "X =[]\n",
        "Y =[]\n",
        "for img in all_images:\n",
        "  try:\n",
        "      img = image.img_to_array(img)\n",
        "      noisy = noisy_image(img)\n",
        "      X.append(noisy) \n",
        "      Y.append(img) \n",
        "  except:\n",
        "     print('error')\n",
        "X = np.array(X)\n",
        "Y = np.array(Y)\n",
        "#X = X.reshape(X.shape+(-1,))\n",
        "print(X.shape)\n",
        "print(Y.shape)\n"
      ],
      "execution_count": null,
      "outputs": [
        {
          "output_type": "stream",
          "text": [
            "(1127, 256, 256, 3)\n",
            "(1127, 256, 256, 3)\n"
          ],
          "name": "stdout"
        }
      ]
    },
    {
      "cell_type": "code",
      "metadata": {
        "colab": {
          "base_uri": "https://localhost:8080/"
        },
        "id": "dBVCXePlkzmj",
        "outputId": "408ef1a1-7d2c-45f5-b403-6a2b70364801"
      },
      "source": [
        "from tensorflow.keras.layers import Input, Dense, Conv2D, MaxPooling2D, Dropout, Conv2DTranspose, UpSampling2D, add\n",
        "from tensorflow.keras.models import Model\n",
        "from tensorflow.keras import regularizers\n",
        "import tensorflow as tf\n",
        "\n",
        "def build_model():\n",
        "    input_img = Input(shape=(256, 256, 3))\n",
        "    l1 = Conv2D(64, (3, 3), padding='same', activation='relu', \n",
        "                activity_regularizer=regularizers.l1(10e-10))(input_img)\n",
        "    l2 = Conv2D(64, (3, 3), padding='same', activation='relu', \n",
        "                activity_regularizer=regularizers.l1(10e-10))\n",
        "\n",
        "    l3 = MaxPooling2D(padding='same')(l2)\n",
        "    #l3 = Dropout(0.3)(l3)\n",
        "    l4 = Conv2D(128, (3, 3),  padding='same', activation='relu', \n",
        "                activity_regularizer=regularizers.l1(10e-10))(l3)\n",
        "    l5 = Conv2D(128, (3, 3), padding='same', activation='relu', \n",
        "                activity_regularizer=regularizers.l1(10e-10))(l4)\n",
        "\n",
        "    l6 = MaxPooling2D(padding='same')(l5)\n",
        "    l7 = Conv2D(256, (3, 3), padding='same', activation='relu', \n",
        "                activity_regularizer=regularizers.l1(10e-10))(l6)\n",
        "    l7 = Conv2D(256, (3, 3), padding='same', activation='relu', \n",
        "                activity_regularizer=regularizers.l1(10e-10))(l7)\n",
        "    \n",
        "    l8 = UpSampling2D()(l7)\n",
        "\n",
        "    l9 = Conv2D(128, (3, 3), padding='same', activation='relu',\n",
        "                activity_regularizer=regularizers.l1(10e-10))(l8)\n",
        "    l10 = Conv2D(128, (3, 3), padding='same', activation='relu',\n",
        "                 activity_regularizer=regularizers.l1(10e-10))(l9)\n",
        "\n",
        "    l11 = add([l5, l10])\n",
        "    l12 = UpSampling2D()(l11)\n",
        "    l13 = Conv2D(64, (3, 3), padding='same', activation='relu',\n",
        "                 activity_regularizer=regularizers.l1(10e-10))(l12)\n",
        "    l14 = Conv2D(64, (3, 3), padding='same', activation='relu',\n",
        "                 activity_regularizer=regularizers.l1(10e-10))(l13)\n",
        "\n",
        "    l15 = add([l14, l2])\n",
        "\n",
        "    decoded = Conv2D(3, (3, 3), padding='same', activation='relu', \n",
        "                     activity_regularizer=regularizers.l1(10e-10))(l15)\n",
        "\n",
        "\n",
        "    model = Model(input_img, decoded)\n",
        "    model.compile(optimizer='adam', loss='mean_squared_error')\n",
        "    \n",
        "    return model\n",
        "\n",
        "model = build_model()\n",
        "model.summary()"
      ],
      "execution_count": null,
      "outputs": [
        {
          "output_type": "stream",
          "text": [
            "Model: \"model_1\"\n",
            "__________________________________________________________________________________________________\n",
            "Layer (type)                    Output Shape         Param #     Connected to                     \n",
            "==================================================================================================\n",
            "input_2 (InputLayer)            [(None, 256, 256, 3) 0                                            \n",
            "__________________________________________________________________________________________________\n",
            "conv2d_10 (Conv2D)              (None, 256, 256, 64) 1792        input_2[0][0]                    \n",
            "__________________________________________________________________________________________________\n",
            "conv2d_11 (Conv2D)              (None, 256, 256, 64) 36928       conv2d_10[0][0]                  \n",
            "__________________________________________________________________________________________________\n",
            "max_pooling2d_2 (MaxPooling2D)  (None, 128, 128, 64) 0           conv2d_11[0][0]                  \n",
            "__________________________________________________________________________________________________\n",
            "conv2d_12 (Conv2D)              (None, 128, 128, 128 73856       max_pooling2d_2[0][0]            \n",
            "__________________________________________________________________________________________________\n",
            "conv2d_13 (Conv2D)              (None, 128, 128, 128 147584      conv2d_12[0][0]                  \n",
            "__________________________________________________________________________________________________\n",
            "max_pooling2d_3 (MaxPooling2D)  (None, 64, 64, 128)  0           conv2d_13[0][0]                  \n",
            "__________________________________________________________________________________________________\n",
            "conv2d_14 (Conv2D)              (None, 64, 64, 256)  295168      max_pooling2d_3[0][0]            \n",
            "__________________________________________________________________________________________________\n",
            "conv2d_15 (Conv2D)              (None, 64, 64, 256)  590080      conv2d_14[0][0]                  \n",
            "__________________________________________________________________________________________________\n",
            "up_sampling2d_2 (UpSampling2D)  (None, 128, 128, 256 0           conv2d_15[0][0]                  \n",
            "__________________________________________________________________________________________________\n",
            "conv2d_16 (Conv2D)              (None, 128, 128, 128 295040      up_sampling2d_2[0][0]            \n",
            "__________________________________________________________________________________________________\n",
            "conv2d_17 (Conv2D)              (None, 128, 128, 128 147584      conv2d_16[0][0]                  \n",
            "__________________________________________________________________________________________________\n",
            "add_2 (Add)                     (None, 128, 128, 128 0           conv2d_13[0][0]                  \n",
            "                                                                 conv2d_17[0][0]                  \n",
            "__________________________________________________________________________________________________\n",
            "up_sampling2d_3 (UpSampling2D)  (None, 256, 256, 128 0           add_2[0][0]                      \n",
            "__________________________________________________________________________________________________\n",
            "conv2d_18 (Conv2D)              (None, 256, 256, 64) 73792       up_sampling2d_3[0][0]            \n",
            "__________________________________________________________________________________________________\n",
            "conv2d_19 (Conv2D)              (None, 256, 256, 64) 36928       conv2d_18[0][0]                  \n",
            "__________________________________________________________________________________________________\n",
            "add_3 (Add)                     (None, 256, 256, 64) 0           conv2d_19[0][0]                  \n",
            "                                                                 conv2d_11[0][0]                  \n",
            "__________________________________________________________________________________________________\n",
            "conv2d_20 (Conv2D)              (None, 256, 256, 3)  1731        add_3[0][0]                      \n",
            "==================================================================================================\n",
            "Total params: 1,700,483\n",
            "Trainable params: 1,700,483\n",
            "Non-trainable params: 0\n",
            "__________________________________________________________________________________________________\n"
          ],
          "name": "stdout"
        }
      ]
    },
    {
      "cell_type": "code",
      "metadata": {
        "id": "qiW1zgNok2vj"
      },
      "source": [
        "model.fit(X, Y,\n",
        "          epochs = 25,\n",
        "          batch_size = 32,\n",
        "          verbose = 1,\n",
        "          shuffle = True)"
      ],
      "execution_count": null,
      "outputs": []
    },
    {
      "cell_type": "code",
      "metadata": {
        "id": "nBad_wPvk4cF"
      },
      "source": [
        "predictions = model.predict(all_images)"
      ],
      "execution_count": null,
      "outputs": []
    },
    {
      "cell_type": "code",
      "metadata": {
        "id": "OEM7O5kInzs0"
      },
      "source": [
        "n = 3\n",
        "plt.figure(figsize= (20,10))\n",
        "\n",
        "for i in range(n):\n",
        "  ax = plt.subplot(2, n, i+1)\n",
        "  plt.imshow(all_images[i])\n",
        "  ax.get_xaxis().set_visible(False)\n",
        "  ax.get_yaxis().set_visible(False)\n",
        "\n",
        "  ax = plt.subplot(2, n, i+1+n)\n",
        "  plt.imshow(predictions[i])\n",
        "  ax.get_xaxis().set_visible(False)\n",
        "  ax.get_yaxis().set_visible(False)"
      ],
      "execution_count": null,
      "outputs": []
    },
    {
      "cell_type": "code",
      "metadata": {
        "id": "IfK5CG17n68M"
      },
      "source": [
        ""
      ],
      "execution_count": null,
      "outputs": []
    }
  ]
}